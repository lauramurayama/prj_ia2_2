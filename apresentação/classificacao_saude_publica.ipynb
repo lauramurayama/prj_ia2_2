{
 "cells": [
  {
   "cell_type": "markdown",
   "id": "e29fc4b4",
   "metadata": {},
   "source": [
    "# Classificação de Situação de Saúde Pública"
   ]
  },
  {
   "cell_type": "code",
   "execution_count": 24,
   "id": "78580839",
   "metadata": {},
   "outputs": [],
   "source": [
    "import pandas as pd\n",
    "import numpy as np\n",
    "from sklearn.model_selection import train_test_split, GridSearchCV, cross_val_score\n",
    "from sklearn.preprocessing import LabelEncoder, StandardScaler\n",
    "from sklearn.tree import DecisionTreeClassifier\n",
    "from sklearn.neighbors import KNeighborsClassifier\n",
    "from sklearn.svm import SVC\n",
    "from sklearn.metrics import accuracy_score, confusion_matrix, classification_report\n",
    "from sklearn.feature_selection import SelectKBest, f_classif\n",
    "from imblearn.over_sampling import SMOTE\n",
    "import matplotlib.pyplot as plt\n",
    "import seaborn as sns\n",
    "import joblib"
   ]
  },
  {
   "cell_type": "code",
   "execution_count": 25,
   "id": "2101c8cc",
   "metadata": {},
   "outputs": [
    {
     "data": {
      "text/html": [
       "<div>\n",
       "<style scoped>\n",
       "    .dataframe tbody tr th:only-of-type {\n",
       "        vertical-align: middle;\n",
       "    }\n",
       "\n",
       "    .dataframe tbody tr th {\n",
       "        vertical-align: top;\n",
       "    }\n",
       "\n",
       "    .dataframe thead th {\n",
       "        text-align: right;\n",
       "    }\n",
       "</style>\n",
       "<table border=\"1\" class=\"dataframe\">\n",
       "  <thead>\n",
       "    <tr style=\"text-align: right;\">\n",
       "      <th></th>\n",
       "      <th>garbage</th>\n",
       "      <th>sewage</th>\n",
       "      <th>complaints</th>\n",
       "      <th>population</th>\n",
       "      <th>risk_level</th>\n",
       "      <th>hospital_access</th>\n",
       "      <th>vaccination_rate</th>\n",
       "    </tr>\n",
       "  </thead>\n",
       "  <tbody>\n",
       "    <tr>\n",
       "      <th>0</th>\n",
       "      <td>86</td>\n",
       "      <td>36</td>\n",
       "      <td>53</td>\n",
       "      <td>7010</td>\n",
       "      <td>low</td>\n",
       "      <td>0</td>\n",
       "      <td>0.795166</td>\n",
       "    </tr>\n",
       "    <tr>\n",
       "      <th>1</th>\n",
       "      <td>6</td>\n",
       "      <td>64</td>\n",
       "      <td>89</td>\n",
       "      <td>5926</td>\n",
       "      <td>low</td>\n",
       "      <td>0</td>\n",
       "      <td>0.029090</td>\n",
       "    </tr>\n",
       "    <tr>\n",
       "      <th>2</th>\n",
       "      <td>22</td>\n",
       "      <td>73</td>\n",
       "      <td>32</td>\n",
       "      <td>7065</td>\n",
       "      <td>low</td>\n",
       "      <td>0</td>\n",
       "      <td>0.118431</td>\n",
       "    </tr>\n",
       "    <tr>\n",
       "      <th>3</th>\n",
       "      <td>33</td>\n",
       "      <td>98</td>\n",
       "      <td>19</td>\n",
       "      <td>1634</td>\n",
       "      <td>low</td>\n",
       "      <td>1</td>\n",
       "      <td>0.847879</td>\n",
       "    </tr>\n",
       "    <tr>\n",
       "      <th>4</th>\n",
       "      <td>8</td>\n",
       "      <td>74</td>\n",
       "      <td>44</td>\n",
       "      <td>3218</td>\n",
       "      <td>low</td>\n",
       "      <td>0</td>\n",
       "      <td>0.352101</td>\n",
       "    </tr>\n",
       "  </tbody>\n",
       "</table>\n",
       "</div>"
      ],
      "text/plain": [
       "   garbage  sewage  complaints  population risk_level  hospital_access  \\\n",
       "0       86      36          53        7010        low                0   \n",
       "1        6      64          89        5926        low                0   \n",
       "2       22      73          32        7065        low                0   \n",
       "3       33      98          19        1634        low                1   \n",
       "4        8      74          44        3218        low                0   \n",
       "\n",
       "   vaccination_rate  \n",
       "0          0.795166  \n",
       "1          0.029090  \n",
       "2          0.118431  \n",
       "3          0.847879  \n",
       "4          0.352101  "
      ]
     },
     "execution_count": 25,
     "metadata": {},
     "output_type": "execute_result"
    }
   ],
   "source": [
    "# Carregar os dados\n",
    "data = pd.read_csv('improved_health_data.csv')\n",
    "\n",
    "data.head()"
   ]
  },
  {
   "cell_type": "markdown",
   "id": "215bb0e3",
   "metadata": {},
   "source": [
    "## Pré-processamento"
   ]
  },
  {
   "cell_type": "code",
   "execution_count": 26,
   "id": "d9bf6004",
   "metadata": {},
   "outputs": [
    {
     "data": {
      "text/html": [
       "<div>\n",
       "<style scoped>\n",
       "    .dataframe tbody tr th:only-of-type {\n",
       "        vertical-align: middle;\n",
       "    }\n",
       "\n",
       "    .dataframe tbody tr th {\n",
       "        vertical-align: top;\n",
       "    }\n",
       "\n",
       "    .dataframe thead th {\n",
       "        text-align: right;\n",
       "    }\n",
       "</style>\n",
       "<table border=\"1\" class=\"dataframe\">\n",
       "  <thead>\n",
       "    <tr style=\"text-align: right;\">\n",
       "      <th></th>\n",
       "      <th>garbage</th>\n",
       "      <th>sewage</th>\n",
       "      <th>complaints</th>\n",
       "      <th>population</th>\n",
       "      <th>risk_level</th>\n",
       "      <th>hospital_access</th>\n",
       "      <th>vaccination_rate</th>\n",
       "    </tr>\n",
       "  </thead>\n",
       "  <tbody>\n",
       "    <tr>\n",
       "      <th>0</th>\n",
       "      <td>86</td>\n",
       "      <td>36</td>\n",
       "      <td>53</td>\n",
       "      <td>7010</td>\n",
       "      <td>1</td>\n",
       "      <td>0</td>\n",
       "      <td>0.795166</td>\n",
       "    </tr>\n",
       "    <tr>\n",
       "      <th>1</th>\n",
       "      <td>6</td>\n",
       "      <td>64</td>\n",
       "      <td>89</td>\n",
       "      <td>5926</td>\n",
       "      <td>1</td>\n",
       "      <td>0</td>\n",
       "      <td>0.029090</td>\n",
       "    </tr>\n",
       "    <tr>\n",
       "      <th>2</th>\n",
       "      <td>22</td>\n",
       "      <td>73</td>\n",
       "      <td>32</td>\n",
       "      <td>7065</td>\n",
       "      <td>1</td>\n",
       "      <td>0</td>\n",
       "      <td>0.118431</td>\n",
       "    </tr>\n",
       "    <tr>\n",
       "      <th>3</th>\n",
       "      <td>33</td>\n",
       "      <td>98</td>\n",
       "      <td>19</td>\n",
       "      <td>1634</td>\n",
       "      <td>1</td>\n",
       "      <td>1</td>\n",
       "      <td>0.847879</td>\n",
       "    </tr>\n",
       "    <tr>\n",
       "      <th>4</th>\n",
       "      <td>8</td>\n",
       "      <td>74</td>\n",
       "      <td>44</td>\n",
       "      <td>3218</td>\n",
       "      <td>1</td>\n",
       "      <td>0</td>\n",
       "      <td>0.352101</td>\n",
       "    </tr>\n",
       "  </tbody>\n",
       "</table>\n",
       "</div>"
      ],
      "text/plain": [
       "   garbage  sewage  complaints  population  risk_level  hospital_access  \\\n",
       "0       86      36          53        7010           1                0   \n",
       "1        6      64          89        5926           1                0   \n",
       "2       22      73          32        7065           1                0   \n",
       "3       33      98          19        1634           1                1   \n",
       "4        8      74          44        3218           1                0   \n",
       "\n",
       "   vaccination_rate  \n",
       "0          0.795166  \n",
       "1          0.029090  \n",
       "2          0.118431  \n",
       "3          0.847879  \n",
       "4          0.352101  "
      ]
     },
     "execution_count": 26,
     "metadata": {},
     "output_type": "execute_result"
    }
   ],
   "source": [
    "# Codificar a coluna 'risk_level'\n",
    "data['risk_level'] = data['risk_level'].str.lower()\n",
    "label_encoder = LabelEncoder()\n",
    "data['risk_level'] = label_encoder.fit_transform(data['risk_level'])\n",
    "\n",
    "data.head()"
   ]
  },
  {
   "cell_type": "markdown",
   "id": "19a295dd",
   "metadata": {},
   "source": [
    "## Dividir os dados em features e target"
   ]
  },
  {
   "cell_type": "code",
   "execution_count": 27,
   "id": "60823213",
   "metadata": {},
   "outputs": [],
   "source": [
    "X = data.drop('risk_level', axis=1)\n",
    "y = data['risk_level']\n",
    "X_train, X_test, y_train, y_test = train_test_split(X, y, test_size=0.2, random_state=42)\n",
    "\n",
    "# Aplicar SMOTE apenas no conjunto de treino\n",
    "smote = SMOTE(random_state=42)\n",
    "X_train, y_train = smote.fit_resample(X_train, y_train)\n",
    "\n",
    "# Normalizar os dados com StandardScaler ajustado apenas no treino\n",
    "scaler = StandardScaler()\n",
    "X_train = scaler.fit_transform(X_train)\n",
    "X_test = scaler.transform(X_test)\n",
    "\n",
    "# Seleção de features com SelectKBest\n",
    "selector = SelectKBest(score_func=f_classif, k='all')\n",
    "X_train = selector.fit_transform(X_train, y_train)\n",
    "X_test = selector.transform(X_test)"
   ]
  },
  {
   "cell_type": "markdown",
   "id": "4bc95365",
   "metadata": {},
   "source": [
    "## Treinar modelos de classificação"
   ]
  },
  {
   "cell_type": "code",
   "execution_count": 28,
   "id": "c3c15961",
   "metadata": {},
   "outputs": [],
   "source": [
    "# Definir os modelos e hiperparâmetros para GridSearchCV\n",
    "models = {\n",
    "    \"Decision Tree\": DecisionTreeClassifier(),\n",
    "    \"KNN\": KNeighborsClassifier(),\n",
    "    \"SVM\": SVC()\n",
    "}\n",
    "\n",
    "param_grids = {\n",
    "    \"Decision Tree\": {'max_depth': [5, 10, 15], 'min_samples_split': [2, 5, 10]},\n",
    "    \"KNN\": {'n_neighbors': [3, 5, 7], 'weights': ['uniform', 'distance']},\n",
    "    \"SVM\": {'C': [0.1, 1, 10, 100], 'kernel': ['linear', 'rbf']}\n",
    "}\n",
    "\n",
    "results = {}\n",
    "accuracies = []\n",
    "\n",
    "# Treinar, prever e avaliar com GridSearchCV\n",
    "for model_name, model in models.items():\n",
    "    grid_search = GridSearchCV(model, param_grids[model_name], cv=5, scoring='accuracy')\n",
    "    grid_search.fit(X_train, y_train)\n",
    "    best_model = grid_search.best_estimator_\n",
    "    y_pred = best_model.predict(X_test)\n",
    "    \n",
    "    accuracy = accuracy_score(y_test, y_pred)\n",
    "    conf_matrix = confusion_matrix(y_test, y_pred)\n",
    "    class_report = classification_report(y_test, y_pred, target_names=label_encoder.classes_)\n",
    "    \n",
    "    results[model_name] = {\n",
    "        \"accuracy\": accuracy,\n",
    "        \"conf_matrix\": conf_matrix,\n",
    "        \"class_report\": class_report,\n",
    "        \"best_params\": grid_search.best_params_,\n",
    "        \"y_pred\": y_pred,\n",
    "        \"best_model\": best_model\n",
    "    }\n",
    "    \n",
    "    accuracies.append((model_name, accuracy))"
   ]
  },
  {
   "cell_type": "markdown",
   "id": "f26fc25d",
   "metadata": {},
   "source": [
    "## Avaliação dos modelos"
   ]
  },
  {
   "cell_type": "code",
   "execution_count": 29,
   "id": "873307c0",
   "metadata": {},
   "outputs": [
    {
     "data": {
      "image/png": "[encoded data removed]",
      "text/plain": [
       "<Figure size 600x400 with 2 Axes>"
      ]
     },
     "metadata": {},
     "output_type": "display_data"
    },
    {
     "data": {
      "image/png": "[encoded data removed]",
      "text/plain": [
       "<Figure size 600x400 with 2 Axes>"
      ]
     },
     "metadata": {},
     "output_type": "display_data"
    },
    {
     "data": {
      "image/png": "[encoded data removed]",
      "text/plain": [
       "<Figure size 600x400 with 2 Axes>"
      ]
     },
     "metadata": {},
     "output_type": "display_data"
    }
   ],
   "source": [
    "# Plotar matriz de confusão para cada modelo\n",
    "for model_name, result in results.items():\n",
    "    plt.figure(figsize=(6, 4))\n",
    "    sns.heatmap(result['conf_matrix'], annot=True, fmt=\"d\", cmap=\"Blues\", \n",
    "                xticklabels=label_encoder.classes_, yticklabels=label_encoder.classes_)\n",
    "    plt.title(f\"Matriz de Confusão - {model_name}\")\n",
    "    plt.xlabel(\"Previsto\")\n",
    "    plt.ylabel(\"Real\")\n",
    "    plt.tight_layout()\n",
    "    plt.show()"
   ]
  },
  {
   "cell_type": "code",
   "execution_count": 30,
   "id": "abb07089",
   "metadata": {},
   "outputs": [
    {
     "name": "stderr",
     "output_type": "stream",
     "text": [
      "C:\\Users\\laura\\AppData\\Local\\Temp\\ipykernel_8684\\481333759.py:6: FutureWarning: \n",
      "\n",
      "Passing `palette` without assigning `hue` is deprecated and will be removed in v0.14.0. Assign the `x` variable to `hue` and set `legend=False` for the same effect.\n",
      "\n",
      "  sns.barplot(x=model_names, y=accuracy_values, palette=\"Set2\")\n"
     ]
    },
    {
     "data": {
      "image/png": "[encoded data removed]",
      "text/plain": [
       "<Figure size 800x500 with 1 Axes>"
      ]
     },
     "metadata": {},
     "output_type": "display_data"
    }
   ],
   "source": [
    "# Gráfico de comparação de acurácias\n",
    "model_names = [name for name, acc in accuracies]\n",
    "accuracy_values = [acc for name, acc in accuracies]\n",
    "\n",
    "plt.figure(figsize=(8, 5))\n",
    "sns.barplot(x=model_names, y=accuracy_values, palette=\"Set2\")\n",
    "plt.ylabel(\"Acurácia\")\n",
    "plt.title(\"Comparação de Acurácia entre Modelos\")\n",
    "plt.ylim(0, 1)\n",
    "plt.tight_layout()\n",
    "plt.show()"
   ]
  },
  {
   "cell_type": "code",
   "execution_count": 31,
   "id": "d7cfdbf6",
   "metadata": {},
   "outputs": [
    {
     "name": "stdout",
     "output_type": "stream",
     "text": [
      "Modelo: Decision Tree\n",
      "Acurácia: 0.78\n",
      "Melhores Hiperparâmetros: {'max_depth': 15, 'min_samples_split': 2}\n",
      "Relatório de Classificação:\n",
      "              precision    recall  f1-score   support\n",
      "\n",
      "        high       0.89      0.72      0.80       184\n",
      "         low       0.72      0.80      0.76       216\n",
      "      medium       0.77      0.82      0.79       196\n",
      "\n",
      "    accuracy                           0.78       596\n",
      "   macro avg       0.79      0.78      0.78       596\n",
      "weighted avg       0.79      0.78      0.78       596\n",
      "\n",
      "\n",
      "\n",
      "Modelo: KNN\n",
      "Acurácia: 0.55\n",
      "Melhores Hiperparâmetros: {'n_neighbors': 5, 'weights': 'distance'}\n",
      "Relatório de Classificação:\n",
      "              precision    recall  f1-score   support\n",
      "\n",
      "        high       0.53      0.58      0.56       184\n",
      "         low       0.55      0.48      0.51       216\n",
      "      medium       0.58      0.60      0.59       196\n",
      "\n",
      "    accuracy                           0.55       596\n",
      "   macro avg       0.55      0.56      0.55       596\n",
      "weighted avg       0.55      0.55      0.55       596\n",
      "\n",
      "\n",
      "\n",
      "Modelo: SVM\n",
      "Acurácia: 0.50\n",
      "Melhores Hiperparâmetros: {'C': 100, 'kernel': 'rbf'}\n",
      "Relatório de Classificação:\n",
      "              precision    recall  f1-score   support\n",
      "\n",
      "        high       0.49      0.53      0.51       184\n",
      "         low       0.49      0.44      0.46       216\n",
      "      medium       0.52      0.55      0.53       196\n",
      "\n",
      "    accuracy                           0.50       596\n",
      "   macro avg       0.50      0.50      0.50       596\n",
      "weighted avg       0.50      0.50      0.50       596\n",
      "\n",
      "\n",
      "\n"
     ]
    }
   ],
   "source": [
    "# Imprimir resultados textuais\n",
    "for model_name, result in results.items():\n",
    "    print(f\"Modelo: {model_name}\")\n",
    "    print(f\"Acurácia: {result['accuracy']:.2f}\")\n",
    "    print(f\"Melhores Hiperparâmetros: {result['best_params']}\")\n",
    "    print(\"Relatório de Classificação:\")\n",
    "    print(result['class_report'])\n",
    "    print(\"\\n\")"
   ]
  },
  {
   "cell_type": "code",
   "execution_count": 32,
   "id": "b870eda2",
   "metadata": {},
   "outputs": [
    {
     "name": "stdout",
     "output_type": "stream",
     "text": [
      "Modelo Decision Tree salvo como 'best_health_model.joblib' com acurácia de 0.78.\n"
     ]
    }
   ],
   "source": [
    "# Salvar o melhor modelo usando joblib\n",
    "best_model_name, best_accuracy = max(accuracies, key=lambda x: x[1])\n",
    "best_model = results[best_model_name][\"best_model\"]\n",
    "joblib.dump(best_model, 'best_health_model.joblib')\n",
    "joblib.dump(label_encoder, 'label_encoder_health.joblib')\n",
    "joblib.dump({\n",
    "    \"model_name\": best_model_name,\n",
    "    \"best_params\": results[best_model_name][\"best_params\"]\n",
    "}, \"best_health_model_info.joblib\")\n",
    "print(f\"Modelo {best_model_name} salvo como 'best_health_model.joblib' com acurácia de {best_accuracy:.2f}.\")"
   ]
  },
  {
   "cell_type": "markdown",
   "id": "5b0d9ed0",
   "metadata": {},
   "source": [
    "\n",
    "## Técnicas Utilizadas\n",
    "\n",
    "### 1. Pré-processamento de Dados\n",
    "- **Leitura do dataset** `improved_health_data.csv`.\n",
    "- **Padronização de rótulos** da coluna `risk_level` para letras minúsculas.\n",
    "- **Codificação de rótulos** com `LabelEncoder` para transformar categorias em valores numéricos.\n",
    "\n",
    "### 2. Divisão de Dados\n",
    "- Separação em **variáveis independentes (X)** e **variável alvo (y)**.\n",
    "- Divisão em **conjuntos de treino e teste** com `train_test_split`.\n",
    "\n",
    "### 3. Balanceamento de Classes\n",
    "- Aplicação de **SMOTE (Synthetic Minority Over-sampling Technique)** para balancear as classes no conjunto de treino.\n",
    "\n",
    "### 4. Normalização\n",
    "- Uso de `StandardScaler` para padronizar os dados com média 0 e desvio padrão 1.\n",
    "- O scaler é ajustado apenas no conjunto de treino e aplicado ao teste.\n",
    "\n",
    "### 5. Seleção de Atributos\n",
    "- Uso de `SelectKBest` com `f_classif` para selecionar as melhores features com base em análise univariada.\n",
    "\n",
    "---\n",
    "\n",
    "##  Modelos Utilizados\n",
    "\n",
    "### Modelos testados com `GridSearchCV`:\n",
    "- **Decision Tree**\n",
    "- **K-Nearest Neighbors (KNN)**\n",
    "- **Support Vector Machine (SVM)**\n",
    "\n",
    "### Hiperparâmetros otimizados:\n",
    "- **Decision Tree**: `max_depth`, `min_samples_split`\n",
    "- **KNN**: `n_neighbors`, `weights`\n",
    "- **SVM**: `C`, `kernel`"
   ]
  },
  {
   "cell_type": "markdown",
   "id": "1b0da433",
   "metadata": {},
   "source": [
    "\n",
    "##  Melhorias Futuras\n",
    "\n",
    "- Testar modelos adicionais como **Random Forest**, **Gradient Boosting**, ou **XGBoost**.\n",
    "- Aplicar **validação cruzada estratificada** para maior robustez.\n",
    "- Explorar **engenharia de atributos** com interações entre variáveis.\n",
    "- Avaliar o impacto de **redução de dimensionalidade** (ex: PCA).\n",
    "- Implementar **explicabilidade de modelos** com SHAP ou LIME.\n"
   ]
  }
 ],
 "metadata": {
  "kernelspec": {
   "display_name": "Python 3",
   "language": "python",
   "name": "python3"
  },
  "language_info": {
   "codemirror_mode": {
    "name": "ipython",
    "version": 3
   },
   "file_extension": ".py",
   "mimetype": "text/x-python",
   "name": "python",
   "nbconvert_exporter": "python",
   "pygments_lexer": "ipython3",
   "version": "3.13.2"
  }
 },
 "nbformat": 4,
 "nbformat_minor": 5
}
